{
 "cells": [
  {
   "cell_type": "markdown",
   "metadata": {},
   "source": [
    "# Some tests of glove dependency!"
   ]
  },
  {
   "cell_type": "code",
   "execution_count": 84,
   "metadata": {},
   "outputs": [],
   "source": [
    "%matplotlib inline\n",
    "%config InlineBackend.figure_format = 'retina'\n",
    "\n",
    "import matplotlib.pyplot as plt"
   ]
  },
  {
   "cell_type": "code",
   "execution_count": 69,
   "metadata": {},
   "outputs": [],
   "source": [
    "import numpy as np\n",
    "import npp\n",
    "\n",
    "def get_glove_embedding(dim):\n",
    "    with open('glove.6B/glove.6B.%dd.txt'%dim, 'r') as f:\n",
    "        lines = f.readlines()\n",
    "    glove = {}\n",
    "    for line in lines:\n",
    "        parts = line.split(' ')\n",
    "        parts[-1] = parts[-1].replace('\\n', '')\n",
    "        flag = True\n",
    "        for word in parts[0]:\n",
    "            for c in word:\n",
    "                if c not in 'abcdefghijklmnopqrstuvwxyz' and c != '-' and c!= \"'\":\n",
    "                    flag = False\n",
    "                    break\n",
    "        if flag:\n",
    "            glove[parts[0]] = np.array(list(map(float, parts[1:])))\n",
    "            assert glove[parts[0]].shape[0] == dim\n",
    "    glove = {word: glove[word]/np.linalg.norm(glove[word]) for word in glove}\n",
    "    glove['oov'] = np.zeros(dim)\n",
    "    return glove"
   ]
  },
  {
   "cell_type": "code",
   "execution_count": 2,
   "metadata": {},
   "outputs": [],
   "source": [
    "glove = get_glove_embedding(50)"
   ]
  },
  {
   "cell_type": "code",
   "execution_count": 3,
   "metadata": {},
   "outputs": [
    {
     "data": {
      "text/plain": [
       "336674"
      ]
     },
     "execution_count": 3,
     "metadata": {},
     "output_type": "execute_result"
    }
   ],
   "source": [
    "len(glove)"
   ]
  },
  {
   "cell_type": "code",
   "execution_count": 4,
   "metadata": {},
   "outputs": [],
   "source": [
    "transcript = open('monkey.txt').read().split(\" \")"
   ]
  },
  {
   "cell_type": "code",
   "execution_count": 5,
   "metadata": {},
   "outputs": [
    {
     "data": {
      "text/plain": [
       "4790"
      ]
     },
     "execution_count": 5,
     "metadata": {},
     "output_type": "execute_result"
    }
   ],
   "source": [
    "len(transcript)"
   ]
  },
  {
   "cell_type": "code",
   "execution_count": 6,
   "metadata": {},
   "outputs": [
    {
     "name": "stdout",
     "output_type": "stream",
     "text": [
      "Average words per second: 2.661\n"
     ]
    }
   ],
   "source": [
    "print(\"Average words per second: %0.3f\" % (len(transcript) / (30 * 60)))"
   ]
  },
  {
   "cell_type": "code",
   "execution_count": 9,
   "metadata": {},
   "outputs": [],
   "source": [
    "wordvectors = np.array([glove.get(w.lower().strip(\",.\"), np.zeros(50)) for w in transcript])\n",
    "prev_words = wordvectors[:-1]\n",
    "next_words = wordvectors[1:]"
   ]
  },
  {
   "cell_type": "code",
   "execution_count": 10,
   "metadata": {},
   "outputs": [
    {
     "data": {
      "text/plain": [
       "(4790, 50)"
      ]
     },
     "execution_count": 10,
     "metadata": {},
     "output_type": "execute_result"
    }
   ],
   "source": [
    "wordvectors.shape"
   ]
  },
  {
   "cell_type": "code",
   "execution_count": 59,
   "metadata": {},
   "outputs": [
    {
     "data": {
      "text/plain": [
       "789"
      ]
     },
     "execution_count": 59,
     "metadata": {},
     "output_type": "execute_result"
    }
   ],
   "source": [
    "len(prev_words[4000:])"
   ]
  },
  {
   "cell_type": "markdown",
   "metadata": {},
   "source": [
    "## Fit model that predicts glove(word_{i-1}) from glove(word_i)"
   ]
  },
  {
   "cell_type": "code",
   "execution_count": 24,
   "metadata": {
    "scrolled": true
   },
   "outputs": [
    {
     "name": "stderr",
     "output_type": "stream",
     "text": [
      "/Users/huth/anaconda3/anaconda3/lib/python3.6/site-packages/ipykernel_launcher.py:1: FutureWarning: `rcond` parameter will change to the default of machine precision times ``max(M, N)`` where M and N are the input matrix dimensions.\n",
      "To use the future default and silence this warning we advise to pass `rcond=None`, to keep using the old, explicitly pass `rcond=-1`.\n",
      "  \"\"\"Entry point for launching an IPython kernel.\n"
     ]
    }
   ],
   "source": [
    "# fit using first 4000 words\n",
    "wt,rank,res,sing = np.linalg.lstsq(next_words[:4000], prev_words[:4000])\n",
    "\n",
    "# test on last 789 words\n",
    "pred_prev = next_words[4000:].dot(wt)\n",
    "\n",
    "# compute correlation for each word\n",
    "corrs = np.array([np.corrcoef(p,pp)[0,1] for p,pp in zip(prev_words[4000:], pred_prev)])"
   ]
  },
  {
   "cell_type": "code",
   "execution_count": 61,
   "metadata": {},
   "outputs": [
    {
     "data": {
      "text/plain": [
       "Text(0.5,0,'Corr(predicted glove(word i) from glove(word i+1), glove(word i))')"
      ]
     },
     "execution_count": 61,
     "metadata": {},
     "output_type": "execute_result"
    },
    {
     "data": {
      "image/png": "[encoded data removed]",
      "text/plain": [
       "<Figure size 432x288 with 1 Axes>"
      ]
     },
     "metadata": {},
     "output_type": "display_data"
    }
   ],
   "source": [
    "plt.hist(corrs[~np.isnan(corrs)], 20)\n",
    "plt.ylabel(\"Num. words\")\n",
    "plt.xlabel(\"Corr(predicted glove(word i) from glove(word i+1), glove(word i))\")"
   ]
  },
  {
   "cell_type": "markdown",
   "metadata": {},
   "source": [
    "These values are clearly WAY above chance!"
   ]
  },
  {
   "cell_type": "code",
   "execution_count": 40,
   "metadata": {},
   "outputs": [],
   "source": [
    "# what if we test by looking at the correlation _across_ words for each glove dimension?\n",
    "corrs2 = np.array([np.corrcoef(p,pp)[0,1] for p,pp in zip(prev_words[4000:].T, pred_prev.T)])"
   ]
  },
  {
   "cell_type": "code",
   "execution_count": 42,
   "metadata": {},
   "outputs": [
    {
     "data": {
      "image/png": "[encoded data removed]",
      "text/plain": [
       "<Figure size 432x288 with 1 Axes>"
      ]
     },
     "metadata": {},
     "output_type": "display_data"
    }
   ],
   "source": [
    "# also clearly above chance\n",
    "plt.hist(corrs2, 10);"
   ]
  },
  {
   "cell_type": "markdown",
   "metadata": {},
   "source": [
    "# What if we used random vectors instead of glove?"
   ]
  },
  {
   "cell_type": "code",
   "execution_count": 34,
   "metadata": {},
   "outputs": [],
   "source": [
    "rand_vectors = {w: np.random.randn(50) for w in glove.keys()}"
   ]
  },
  {
   "cell_type": "code",
   "execution_count": 35,
   "metadata": {},
   "outputs": [],
   "source": [
    "randwordvectors = np.array([rand_vectors.get(w.lower().strip(\",.\"), np.zeros(50)) for w in transcript])\n",
    "rand_prev_words = randwordvectors[:-1]\n",
    "rand_next_words = randwordvectors[1:]"
   ]
  },
  {
   "cell_type": "code",
   "execution_count": 62,
   "metadata": {},
   "outputs": [
    {
     "name": "stderr",
     "output_type": "stream",
     "text": [
      "/Users/huth/anaconda3/anaconda3/lib/python3.6/site-packages/ipykernel_launcher.py:1: FutureWarning: `rcond` parameter will change to the default of machine precision times ``max(M, N)`` where M and N are the input matrix dimensions.\n",
      "To use the future default and silence this warning we advise to pass `rcond=None`, to keep using the old, explicitly pass `rcond=-1`.\n",
      "  \"\"\"Entry point for launching an IPython kernel.\n",
      "/Users/huth/anaconda3/anaconda3/lib/python3.6/site-packages/numpy/lib/function_base.py:2534: RuntimeWarning: invalid value encountered in true_divide\n",
      "  c /= stddev[:, None]\n",
      "/Users/huth/anaconda3/anaconda3/lib/python3.6/site-packages/numpy/lib/function_base.py:2535: RuntimeWarning: invalid value encountered in true_divide\n",
      "  c /= stddev[None, :]\n"
     ]
    }
   ],
   "source": [
    "# fit model that predicts rand_embedding(word i-1) from rand_embedding(word i)\n",
    "randwt,randrank,randres,randsing = np.linalg.lstsq(rand_next_words[:4000], rand_prev_words[:4000])\n",
    "rand_pred_prev = rand_next_words[4000:].dot(randwt)\n",
    "randcorrs = np.array([np.corrcoef(p,pp)[0,1] for p,pp in zip(rand_prev_words[4000:], rand_pred_prev)])\n",
    "randcorrs2 = np.array([np.corrcoef(p,pp)[0,1] for p,pp in zip(rand_prev_words[4000:].T, rand_pred_prev.T)])"
   ]
  },
  {
   "cell_type": "code",
   "execution_count": 86,
   "metadata": {},
   "outputs": [
    {
     "data": {
      "image/png": "[encoded data removed]",
      "text/plain": [
       "<Figure size 432x288 with 1 Axes>"
      ]
     },
     "metadata": {
      "image/png": {
       "height": 250,
       "width": 377
      }
     },
     "output_type": "display_data"
    }
   ],
   "source": [
    "# this looks much closer to zero, but is there still significant information?\n",
    "plt.hist(randcorrs[~np.isnan(randcorrs)], 20);"
   ]
  },
  {
   "cell_type": "code",
   "execution_count": 77,
   "metadata": {},
   "outputs": [
    {
     "name": "stderr",
     "output_type": "stream",
     "text": [
      "/Users/huth/code/notebook-sharing/npp.py:11: RuntimeWarning: invalid value encountered in true_divide\n",
      "  zscore = lambda v: (v-v.mean(0))/v.std(0)\n"
     ]
    }
   ],
   "source": [
    "# significance test.....\n",
    "nperm = 1000\n",
    "perm_ccs = np.zeros(nperm)\n",
    "for ii in range(nperm):\n",
    "    permwt = np.random.permutation(randwt)\n",
    "    perm_rand_pred_prev = rand_next_words[4000:].dot(permwt)\n",
    "    #perm_randcorrs = np.array([np.corrcoef(p,pp)[0,1] for p,pp in zip(rand_prev_words[4000:], perm_rand_pred_prev)])\n",
    "    perm_randcorrs = np.nanmean(npp.mcorr(rand_prev_words[4000:].T, perm_rand_pred_prev.T))\n",
    "    perm_ccs[ii] = np.nanmean(perm_randcorrs)"
   ]
  },
  {
   "cell_type": "code",
   "execution_count": 85,
   "metadata": {},
   "outputs": [
    {
     "data": {
      "text/plain": [
       "<matplotlib.legend.Legend at 0x1155315c0>"
      ]
     },
     "execution_count": 85,
     "metadata": {},
     "output_type": "execute_result"
    },
    {
     "data": {
      "image/png": "[encoded data removed]",
      "text/plain": [
       "<Figure size 432x288 with 1 Axes>"
      ]
     },
     "metadata": {
      "image/png": {
       "height": 263,
       "width": 470
      }
     },
     "output_type": "display_data"
    }
   ],
   "source": [
    "plt.figure(facecolor=\"white\")\n",
    "plt.hist(perm_ccs, 50, label=\"Null dist.\", density=True);\n",
    "plt.vlines(np.nanmean(randcorrs), 0, plt.ylim()[1], label=\"True value\", color=\"red\")\n",
    "plt.xlabel(\"Corr(predicted word i random vector from word i+1 random vector, word i random vector)\")\n",
    "plt.ylabel(\"Density\")\n",
    "plt.legend()\n",
    "\n",
    "# Yeah this looks really significant!"
   ]
  },
  {
   "cell_type": "markdown",
   "metadata": {},
   "source": [
    "## Use random vector to predict glove vectors?"
   ]
  },
  {
   "cell_type": "code",
   "execution_count": 46,
   "metadata": {},
   "outputs": [
    {
     "name": "stderr",
     "output_type": "stream",
     "text": [
      "/Users/huth/anaconda3/anaconda3/lib/python3.6/site-packages/ipykernel_launcher.py:1: FutureWarning: `rcond` parameter will change to the default of machine precision times ``max(M, N)`` where M and N are the input matrix dimensions.\n",
      "To use the future default and silence this warning we advise to pass `rcond=None`, to keep using the old, explicitly pass `rcond=-1`.\n",
      "  \"\"\"Entry point for launching an IPython kernel.\n",
      "/Users/huth/anaconda3/anaconda3/lib/python3.6/site-packages/numpy/lib/function_base.py:2534: RuntimeWarning: invalid value encountered in true_divide\n",
      "  c /= stddev[:, None]\n",
      "/Users/huth/anaconda3/anaconda3/lib/python3.6/site-packages/numpy/lib/function_base.py:2535: RuntimeWarning: invalid value encountered in true_divide\n",
      "  c /= stddev[None, :]\n"
     ]
    }
   ],
   "source": [
    "# fit model that predicts glove(word i-1) from random_emb(word i)\n",
    "rand2wt,rand2rank,rand2res,rand2sing = np.linalg.lstsq(rand_next_words[:4000], prev_words[:4000])\n",
    "rand2_pred_prev = rand_next_words[4000:].dot(rand2wt)\n",
    "rand2corrs = np.array([np.corrcoef(p,pp)[0,1] for p,pp in zip(prev_words[4000:], rand2_pred_prev)])\n",
    "rand2corrs2 = np.array([np.corrcoef(p,pp)[0,1] for p,pp in zip(prev_words[4000:].T, rand2_pred_prev.T)])"
   ]
  },
  {
   "cell_type": "code",
   "execution_count": 50,
   "metadata": {},
   "outputs": [
    {
     "data": {
      "text/plain": [
       "Text(0.5,0,'Corr(predicted word i glove vector from word i+1 random vector, word i glove vector)')"
      ]
     },
     "execution_count": 50,
     "metadata": {},
     "output_type": "execute_result"
    },
    {
     "data": {
      "image/png": "[encoded data removed]",
      "text/plain": [
       "<Figure size 432x288 with 1 Axes>"
      ]
     },
     "metadata": {},
     "output_type": "display_data"
    }
   ],
   "source": [
    "plt.hist(rand2corrs[~np.isnan(rand2corrs)], 20);\n",
    "plt.ylabel(\"Num. words\")\n",
    "plt.xlabel(\"Corr(predicted word i glove vector from word i+1 random vector, word i glove vector)\")"
   ]
  },
  {
   "cell_type": "markdown",
   "metadata": {},
   "source": [
    "Definitely positive on average!"
   ]
  },
  {
   "cell_type": "markdown",
   "metadata": {},
   "source": [
    "## Regress previous word vector out of next word vector, then try the same?"
   ]
  },
  {
   "cell_type": "code",
   "execution_count": 56,
   "metadata": {},
   "outputs": [
    {
     "name": "stderr",
     "output_type": "stream",
     "text": [
      "/Users/huth/anaconda3/anaconda3/lib/python3.6/site-packages/ipykernel_launcher.py:1: FutureWarning: `rcond` parameter will change to the default of machine precision times ``max(M, N)`` where M and N are the input matrix dimensions.\n",
      "To use the future default and silence this warning we advise to pass `rcond=None`, to keep using the old, explicitly pass `rcond=-1`.\n",
      "  \"\"\"Entry point for launching an IPython kernel.\n",
      "/Users/huth/anaconda3/anaconda3/lib/python3.6/site-packages/ipykernel_launcher.py:5: FutureWarning: `rcond` parameter will change to the default of machine precision times ``max(M, N)`` where M and N are the input matrix dimensions.\n",
      "To use the future default and silence this warning we advise to pass `rcond=None`, to keep using the old, explicitly pass `rcond=-1`.\n",
      "  \"\"\"\n",
      "/Users/huth/anaconda3/anaconda3/lib/python3.6/site-packages/numpy/lib/function_base.py:2534: RuntimeWarning: invalid value encountered in true_divide\n",
      "  c /= stddev[:, None]\n",
      "/Users/huth/anaconda3/anaconda3/lib/python3.6/site-packages/numpy/lib/function_base.py:2535: RuntimeWarning: invalid value encountered in true_divide\n",
      "  c /= stddev[None, :]\n"
     ]
    }
   ],
   "source": [
    "# predict glove(word i) from glove(word i-1)\n",
    "nextwt,_,_,_ = np.linalg.lstsq(prev_words[:4000], next_words[:4000])\n",
    "\n",
    "# subtract prediction to get glove(word i) \"independent of\" glove(word i-1)\n",
    "next_words_sub = next_words - prev_words.dot(nextwt)\n",
    "\n",
    "# fit model that predicts glove(word i-1) using the modified vectors from above\n",
    "subwt,subrank,subres,subsing = np.linalg.lstsq(next_words_sub[:4000], prev_words[:4000])\n",
    "subpred_prev = next_words_sub[4000:].dot(subwt)\n",
    "subcorrs = np.array([np.corrcoef(p,pp)[0,1] for p,pp in zip(prev_words[4000:], subpred_prev)])\n",
    "subcorrs2 = np.array([np.corrcoef(p,pp)[0,1] for p,pp in zip(prev_words[4000:].T, subpred_prev.T)])"
   ]
  },
  {
   "cell_type": "code",
   "execution_count": 60,
   "metadata": {},
   "outputs": [
    {
     "data": {
      "text/plain": [
       "Text(0.5,0,'Corr(pred. glove(word i) from glove(word i+1) - pred. glove(word i+1) from word i, word i glove vector)')"
      ]
     },
     "execution_count": 60,
     "metadata": {},
     "output_type": "execute_result"
    },
    {
     "data": {
      "image/png": "[encoded data removed]",
      "text/plain": [
       "<Figure size 432x288 with 1 Axes>"
      ]
     },
     "metadata": {},
     "output_type": "display_data"
    }
   ],
   "source": [
    "plt.hist(subcorrs[~np.isnan(subcorrs)], 20);\n",
    "plt.ylabel(\"Num. words\")\n",
    "plt.xlabel(\"Corr(pred. glove(word i) from glove(word i+1) - pred. glove(word i+1) from word i, word i glove vector)\")"
   ]
  },
  {
   "cell_type": "code",
   "execution_count": 58,
   "metadata": {},
   "outputs": [
    {
     "data": {
      "text/plain": [
       "0.033224859033786525"
      ]
     },
     "execution_count": 58,
     "metadata": {},
     "output_type": "execute_result"
    }
   ],
   "source": [
    "subcorrs[~np.isnan(subcorrs)].mean()"
   ]
  },
  {
   "cell_type": "code",
   "execution_count": null,
   "metadata": {},
   "outputs": [],
   "source": []
  }
 ],
 "metadata": {
  "kernelspec": {
   "display_name": "Python 3",
   "language": "python",
   "name": "python3"
  },
  "language_info": {
   "codemirror_mode": {
    "name": "ipython",
    "version": 3
   },
   "file_extension": ".py",
   "mimetype": "text/x-python",
   "name": "python",
   "nbconvert_exporter": "python",
   "pygments_lexer": "ipython3",
   "version": "3.6.8"
  }
 },
 "nbformat": 4,
 "nbformat_minor": 2
}
